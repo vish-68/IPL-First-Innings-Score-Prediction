{
 "cells": [
  {
   "cell_type": "code",
   "execution_count": 1,
   "metadata": {},
   "outputs": [],
   "source": [
    "# importing basic library:\n",
    "import numpy as np\n",
    "import pandas as pd \n",
    "\n",
    "# for visualizattion:\n",
    "import matplotlib.pyplot as plt\n",
    "import seaborn as sns\n",
    "\n",
    "# for ignoring warnings:\n",
    "import warnings\n",
    "warnings.filterwarnings(\"ignore\")\n",
    "\n",
    "# for preprocessing:\n",
    "from sklearn.preprocessing import LabelEncoder, MinMaxScaler, StandardScaler\n",
    "\n",
    "# for handling sknewness\n",
    "from scipy.stats import skew\n",
    "\n",
    "# for vif\n",
    "from statsmodels.stats.outliers_influence import variance_inflation_factor as vif\n",
    "\n",
    "# for splitting data and Cross-validation:\n",
    "from sklearn.model_selection import train_test_split, KFold, cross_val_score\n",
    "\n",
    "# for predictive modeling\n",
    "from sklearn.linear_model import LinearRegression, Ridge, Lasso\n",
    "\n",
    "import statsmodels.formula.api as sm\n",
    "\n",
    "import statsmodels.api as stm\n",
    "\n",
    "import scipy.stats as stats\n",
    "\n",
    "from sklearn.linear_model import SGDRegressor\n",
    "\n",
    "from sklearn.neighbors import KNeighborsRegressor\n",
    "\n",
    "from sklearn.svm import SVR\n",
    "\n",
    "from sklearn.tree import DecisionTreeRegressor\n",
    "\n",
    "from sklearn.ensemble import ExtraTreesRegressor, RandomForestRegressor, AdaBoostRegressor, GradientBoostingRegressor, VotingRegressor\n",
    "\n",
    "from xgboost import XGBRegressor\n",
    "\n",
    "# Evaluation matrix\n",
    "from sklearn.metrics import r2_score, mean_squared_error\n",
    "\n",
    "#importing pickle for saving model\n",
    "import pickle"
   ]
  },
  {
   "cell_type": "code",
   "execution_count": 2,
   "metadata": {
    "scrolled": true
   },
   "outputs": [
    {
     "name": "stdout",
     "output_type": "stream",
     "text": [
      "(40108, 10)\n"
     ]
    },
    {
     "data": {
      "text/html": [
       "<div>\n",
       "<style scoped>\n",
       "    .dataframe tbody tr th:only-of-type {\n",
       "        vertical-align: middle;\n",
       "    }\n",
       "\n",
       "    .dataframe tbody tr th {\n",
       "        vertical-align: top;\n",
       "    }\n",
       "\n",
       "    .dataframe thead th {\n",
       "        text-align: right;\n",
       "    }\n",
       "</style>\n",
       "<table border=\"1\" class=\"dataframe\">\n",
       "  <thead>\n",
       "    <tr style=\"text-align: right;\">\n",
       "      <th></th>\n",
       "      <th>date</th>\n",
       "      <th>venue</th>\n",
       "      <th>bat_team</th>\n",
       "      <th>bowl_team</th>\n",
       "      <th>runs</th>\n",
       "      <th>wickets</th>\n",
       "      <th>overs</th>\n",
       "      <th>runs_last_5</th>\n",
       "      <th>wickets_last_5</th>\n",
       "      <th>total</th>\n",
       "    </tr>\n",
       "  </thead>\n",
       "  <tbody>\n",
       "    <tr>\n",
       "      <th>32</th>\n",
       "      <td>2008-04-18</td>\n",
       "      <td>13</td>\n",
       "      <td>3</td>\n",
       "      <td>6</td>\n",
       "      <td>61</td>\n",
       "      <td>0</td>\n",
       "      <td>5.1</td>\n",
       "      <td>59</td>\n",
       "      <td>0</td>\n",
       "      <td>222</td>\n",
       "    </tr>\n",
       "    <tr>\n",
       "      <th>33</th>\n",
       "      <td>2008-04-18</td>\n",
       "      <td>13</td>\n",
       "      <td>3</td>\n",
       "      <td>6</td>\n",
       "      <td>61</td>\n",
       "      <td>1</td>\n",
       "      <td>5.2</td>\n",
       "      <td>59</td>\n",
       "      <td>1</td>\n",
       "      <td>222</td>\n",
       "    </tr>\n",
       "    <tr>\n",
       "      <th>34</th>\n",
       "      <td>2008-04-18</td>\n",
       "      <td>13</td>\n",
       "      <td>3</td>\n",
       "      <td>6</td>\n",
       "      <td>61</td>\n",
       "      <td>1</td>\n",
       "      <td>5.3</td>\n",
       "      <td>59</td>\n",
       "      <td>1</td>\n",
       "      <td>222</td>\n",
       "    </tr>\n",
       "    <tr>\n",
       "      <th>35</th>\n",
       "      <td>2008-04-18</td>\n",
       "      <td>13</td>\n",
       "      <td>3</td>\n",
       "      <td>6</td>\n",
       "      <td>61</td>\n",
       "      <td>1</td>\n",
       "      <td>5.4</td>\n",
       "      <td>59</td>\n",
       "      <td>1</td>\n",
       "      <td>222</td>\n",
       "    </tr>\n",
       "    <tr>\n",
       "      <th>36</th>\n",
       "      <td>2008-04-18</td>\n",
       "      <td>13</td>\n",
       "      <td>3</td>\n",
       "      <td>6</td>\n",
       "      <td>61</td>\n",
       "      <td>1</td>\n",
       "      <td>5.5</td>\n",
       "      <td>58</td>\n",
       "      <td>1</td>\n",
       "      <td>222</td>\n",
       "    </tr>\n",
       "    <tr>\n",
       "      <th>37</th>\n",
       "      <td>2008-04-18</td>\n",
       "      <td>13</td>\n",
       "      <td>3</td>\n",
       "      <td>6</td>\n",
       "      <td>61</td>\n",
       "      <td>1</td>\n",
       "      <td>5.6</td>\n",
       "      <td>58</td>\n",
       "      <td>1</td>\n",
       "      <td>222</td>\n",
       "    </tr>\n",
       "    <tr>\n",
       "      <th>38</th>\n",
       "      <td>2008-04-18</td>\n",
       "      <td>13</td>\n",
       "      <td>3</td>\n",
       "      <td>6</td>\n",
       "      <td>62</td>\n",
       "      <td>1</td>\n",
       "      <td>6.1</td>\n",
       "      <td>55</td>\n",
       "      <td>1</td>\n",
       "      <td>222</td>\n",
       "    </tr>\n",
       "    <tr>\n",
       "      <th>39</th>\n",
       "      <td>2008-04-18</td>\n",
       "      <td>13</td>\n",
       "      <td>3</td>\n",
       "      <td>6</td>\n",
       "      <td>63</td>\n",
       "      <td>1</td>\n",
       "      <td>6.2</td>\n",
       "      <td>52</td>\n",
       "      <td>1</td>\n",
       "      <td>222</td>\n",
       "    </tr>\n",
       "    <tr>\n",
       "      <th>40</th>\n",
       "      <td>2008-04-18</td>\n",
       "      <td>13</td>\n",
       "      <td>3</td>\n",
       "      <td>6</td>\n",
       "      <td>64</td>\n",
       "      <td>1</td>\n",
       "      <td>6.3</td>\n",
       "      <td>47</td>\n",
       "      <td>1</td>\n",
       "      <td>222</td>\n",
       "    </tr>\n",
       "    <tr>\n",
       "      <th>41</th>\n",
       "      <td>2008-04-18</td>\n",
       "      <td>13</td>\n",
       "      <td>3</td>\n",
       "      <td>6</td>\n",
       "      <td>66</td>\n",
       "      <td>1</td>\n",
       "      <td>6.4</td>\n",
       "      <td>45</td>\n",
       "      <td>1</td>\n",
       "      <td>222</td>\n",
       "    </tr>\n",
       "  </tbody>\n",
       "</table>\n",
       "</div>"
      ],
      "text/plain": [
       "          date  venue  bat_team  bowl_team  runs  wickets  overs  runs_last_5  \\\n",
       "32  2008-04-18     13         3          6    61        0    5.1           59   \n",
       "33  2008-04-18     13         3          6    61        1    5.2           59   \n",
       "34  2008-04-18     13         3          6    61        1    5.3           59   \n",
       "35  2008-04-18     13         3          6    61        1    5.4           59   \n",
       "36  2008-04-18     13         3          6    61        1    5.5           58   \n",
       "37  2008-04-18     13         3          6    61        1    5.6           58   \n",
       "38  2008-04-18     13         3          6    62        1    6.1           55   \n",
       "39  2008-04-18     13         3          6    63        1    6.2           52   \n",
       "40  2008-04-18     13         3          6    64        1    6.3           47   \n",
       "41  2008-04-18     13         3          6    66        1    6.4           45   \n",
       "\n",
       "    wickets_last_5  total  \n",
       "32               0    222  \n",
       "33               1    222  \n",
       "34               1    222  \n",
       "35               1    222  \n",
       "36               1    222  \n",
       "37               1    222  \n",
       "38               1    222  \n",
       "39               1    222  \n",
       "40               1    222  \n",
       "41               1    222  "
      ]
     },
     "execution_count": 2,
     "metadata": {},
     "output_type": "execute_result"
    }
   ],
   "source": [
    "# importing ipl dataset:\n",
    "df=pd.read_csv(r\"C:\\Users\\Vishal\\Web Deployment\\IPL Score Prediction\\data\\exported_data\\EncodedData.csv\",\n",
    "               index_col=0,\n",
    "               header=0)\n",
    "\n",
    "print(df.shape)\n",
    "\n",
    "df.head(10)"
   ]
  },
  {
   "cell_type": "code",
   "execution_count": 3,
   "metadata": {},
   "outputs": [
    {
     "name": "stdout",
     "output_type": "stream",
     "text": [
      "<class 'pandas.core.frame.DataFrame'>\n",
      "Int64Index: 40108 entries, 32 to 75888\n",
      "Data columns (total 10 columns):\n",
      " #   Column          Non-Null Count  Dtype  \n",
      "---  ------          --------------  -----  \n",
      " 0   date            40108 non-null  object \n",
      " 1   venue           40108 non-null  int64  \n",
      " 2   bat_team        40108 non-null  int64  \n",
      " 3   bowl_team       40108 non-null  int64  \n",
      " 4   runs            40108 non-null  int64  \n",
      " 5   wickets         40108 non-null  int64  \n",
      " 6   overs           40108 non-null  float64\n",
      " 7   runs_last_5     40108 non-null  int64  \n",
      " 8   wickets_last_5  40108 non-null  int64  \n",
      " 9   total           40108 non-null  int64  \n",
      "dtypes: float64(1), int64(8), object(1)\n",
      "memory usage: 3.4+ MB\n"
     ]
    }
   ],
   "source": [
    "df.info()"
   ]
  },
  {
   "cell_type": "code",
   "execution_count": 4,
   "metadata": {},
   "outputs": [],
   "source": [
    "#Converting the column 'date' from string to datetime object:  \n",
    "df['date']=pd.to_datetime(df['date'])"
   ]
  },
  {
   "cell_type": "code",
   "execution_count": 5,
   "metadata": {},
   "outputs": [],
   "source": [
    "train=df[df['date']<'2017-01-01']\n",
    "\n",
    "test=df[df['date']>='2017-01-01']"
   ]
  },
  {
   "cell_type": "code",
   "execution_count": 6,
   "metadata": {},
   "outputs": [
    {
     "name": "stdout",
     "output_type": "stream",
     "text": [
      "(37330, 10)\n",
      "(2778, 10)\n"
     ]
    }
   ],
   "source": [
    "print(train.shape)\n",
    "print(test.shape)"
   ]
  },
  {
   "cell_type": "code",
   "execution_count": 7,
   "metadata": {},
   "outputs": [],
   "source": [
    "#Dropping 'date'columns from train and test\n",
    "train=train.drop('date',axis=1)\n",
    "\n",
    "test=test.drop('date',axis=1)"
   ]
  },
  {
   "cell_type": "code",
   "execution_count": 8,
   "metadata": {},
   "outputs": [
    {
     "name": "stdout",
     "output_type": "stream",
     "text": [
      "(37330, 9)\n",
      "(2778, 9)\n"
     ]
    }
   ],
   "source": [
    "print(train.shape)\n",
    "\n",
    "print(test.shape)"
   ]
  },
  {
   "cell_type": "code",
   "execution_count": 9,
   "metadata": {},
   "outputs": [
    {
     "data": {
      "text/html": [
       "<div>\n",
       "<style scoped>\n",
       "    .dataframe tbody tr th:only-of-type {\n",
       "        vertical-align: middle;\n",
       "    }\n",
       "\n",
       "    .dataframe tbody tr th {\n",
       "        vertical-align: top;\n",
       "    }\n",
       "\n",
       "    .dataframe thead th {\n",
       "        text-align: right;\n",
       "    }\n",
       "</style>\n",
       "<table border=\"1\" class=\"dataframe\">\n",
       "  <thead>\n",
       "    <tr style=\"text-align: right;\">\n",
       "      <th></th>\n",
       "      <th>venue</th>\n",
       "      <th>bat_team</th>\n",
       "      <th>bowl_team</th>\n",
       "      <th>runs</th>\n",
       "      <th>wickets</th>\n",
       "      <th>overs</th>\n",
       "      <th>runs_last_5</th>\n",
       "      <th>wickets_last_5</th>\n",
       "      <th>total</th>\n",
       "    </tr>\n",
       "  </thead>\n",
       "  <tbody>\n",
       "    <tr>\n",
       "      <th>32</th>\n",
       "      <td>13</td>\n",
       "      <td>3</td>\n",
       "      <td>6</td>\n",
       "      <td>61</td>\n",
       "      <td>0</td>\n",
       "      <td>5.1</td>\n",
       "      <td>59</td>\n",
       "      <td>0</td>\n",
       "      <td>222</td>\n",
       "    </tr>\n",
       "    <tr>\n",
       "      <th>33</th>\n",
       "      <td>13</td>\n",
       "      <td>3</td>\n",
       "      <td>6</td>\n",
       "      <td>61</td>\n",
       "      <td>1</td>\n",
       "      <td>5.2</td>\n",
       "      <td>59</td>\n",
       "      <td>1</td>\n",
       "      <td>222</td>\n",
       "    </tr>\n",
       "    <tr>\n",
       "      <th>34</th>\n",
       "      <td>13</td>\n",
       "      <td>3</td>\n",
       "      <td>6</td>\n",
       "      <td>61</td>\n",
       "      <td>1</td>\n",
       "      <td>5.3</td>\n",
       "      <td>59</td>\n",
       "      <td>1</td>\n",
       "      <td>222</td>\n",
       "    </tr>\n",
       "    <tr>\n",
       "      <th>35</th>\n",
       "      <td>13</td>\n",
       "      <td>3</td>\n",
       "      <td>6</td>\n",
       "      <td>61</td>\n",
       "      <td>1</td>\n",
       "      <td>5.4</td>\n",
       "      <td>59</td>\n",
       "      <td>1</td>\n",
       "      <td>222</td>\n",
       "    </tr>\n",
       "    <tr>\n",
       "      <th>36</th>\n",
       "      <td>13</td>\n",
       "      <td>3</td>\n",
       "      <td>6</td>\n",
       "      <td>61</td>\n",
       "      <td>1</td>\n",
       "      <td>5.5</td>\n",
       "      <td>58</td>\n",
       "      <td>1</td>\n",
       "      <td>222</td>\n",
       "    </tr>\n",
       "  </tbody>\n",
       "</table>\n",
       "</div>"
      ],
      "text/plain": [
       "    venue  bat_team  bowl_team  runs  wickets  overs  runs_last_5  \\\n",
       "32     13         3          6    61        0    5.1           59   \n",
       "33     13         3          6    61        1    5.2           59   \n",
       "34     13         3          6    61        1    5.3           59   \n",
       "35     13         3          6    61        1    5.4           59   \n",
       "36     13         3          6    61        1    5.5           58   \n",
       "\n",
       "    wickets_last_5  total  \n",
       "32               0    222  \n",
       "33               1    222  \n",
       "34               1    222  \n",
       "35               1    222  \n",
       "36               1    222  "
      ]
     },
     "execution_count": 9,
     "metadata": {},
     "output_type": "execute_result"
    }
   ],
   "source": [
    "train.head()"
   ]
  },
  {
   "cell_type": "code",
   "execution_count": 10,
   "metadata": {},
   "outputs": [
    {
     "data": {
      "text/html": [
       "<div>\n",
       "<style scoped>\n",
       "    .dataframe tbody tr th:only-of-type {\n",
       "        vertical-align: middle;\n",
       "    }\n",
       "\n",
       "    .dataframe tbody tr th {\n",
       "        vertical-align: top;\n",
       "    }\n",
       "\n",
       "    .dataframe thead th {\n",
       "        text-align: right;\n",
       "    }\n",
       "</style>\n",
       "<table border=\"1\" class=\"dataframe\">\n",
       "  <thead>\n",
       "    <tr style=\"text-align: right;\">\n",
       "      <th></th>\n",
       "      <th>venue</th>\n",
       "      <th>bat_team</th>\n",
       "      <th>bowl_team</th>\n",
       "      <th>runs</th>\n",
       "      <th>wickets</th>\n",
       "      <th>overs</th>\n",
       "      <th>runs_last_5</th>\n",
       "      <th>wickets_last_5</th>\n",
       "      <th>total</th>\n",
       "    </tr>\n",
       "  </thead>\n",
       "  <tbody>\n",
       "    <tr>\n",
       "      <th>68894</th>\n",
       "      <td>21</td>\n",
       "      <td>7</td>\n",
       "      <td>6</td>\n",
       "      <td>46</td>\n",
       "      <td>1</td>\n",
       "      <td>5.1</td>\n",
       "      <td>42</td>\n",
       "      <td>1</td>\n",
       "      <td>207</td>\n",
       "    </tr>\n",
       "    <tr>\n",
       "      <th>68895</th>\n",
       "      <td>21</td>\n",
       "      <td>7</td>\n",
       "      <td>6</td>\n",
       "      <td>50</td>\n",
       "      <td>1</td>\n",
       "      <td>5.2</td>\n",
       "      <td>46</td>\n",
       "      <td>1</td>\n",
       "      <td>207</td>\n",
       "    </tr>\n",
       "    <tr>\n",
       "      <th>68896</th>\n",
       "      <td>21</td>\n",
       "      <td>7</td>\n",
       "      <td>6</td>\n",
       "      <td>50</td>\n",
       "      <td>1</td>\n",
       "      <td>5.3</td>\n",
       "      <td>44</td>\n",
       "      <td>1</td>\n",
       "      <td>207</td>\n",
       "    </tr>\n",
       "    <tr>\n",
       "      <th>68897</th>\n",
       "      <td>21</td>\n",
       "      <td>7</td>\n",
       "      <td>6</td>\n",
       "      <td>54</td>\n",
       "      <td>1</td>\n",
       "      <td>5.4</td>\n",
       "      <td>48</td>\n",
       "      <td>1</td>\n",
       "      <td>207</td>\n",
       "    </tr>\n",
       "    <tr>\n",
       "      <th>68898</th>\n",
       "      <td>21</td>\n",
       "      <td>7</td>\n",
       "      <td>6</td>\n",
       "      <td>58</td>\n",
       "      <td>1</td>\n",
       "      <td>5.5</td>\n",
       "      <td>51</td>\n",
       "      <td>1</td>\n",
       "      <td>207</td>\n",
       "    </tr>\n",
       "  </tbody>\n",
       "</table>\n",
       "</div>"
      ],
      "text/plain": [
       "       venue  bat_team  bowl_team  runs  wickets  overs  runs_last_5  \\\n",
       "68894     21         7          6    46        1    5.1           42   \n",
       "68895     21         7          6    50        1    5.2           46   \n",
       "68896     21         7          6    50        1    5.3           44   \n",
       "68897     21         7          6    54        1    5.4           48   \n",
       "68898     21         7          6    58        1    5.5           51   \n",
       "\n",
       "       wickets_last_5  total  \n",
       "68894               1    207  \n",
       "68895               1    207  \n",
       "68896               1    207  \n",
       "68897               1    207  \n",
       "68898               1    207  "
      ]
     },
     "execution_count": 10,
     "metadata": {},
     "output_type": "execute_result"
    }
   ],
   "source": [
    "test.head()"
   ]
  },
  {
   "cell_type": "code",
   "execution_count": 11,
   "metadata": {},
   "outputs": [
    {
     "name": "stdout",
     "output_type": "stream",
     "text": [
      "(37330, 8) (37330,) (2778, 8) (2778,)\n"
     ]
    }
   ],
   "source": [
    "#Futher Splitting data into X_train,X_test,Y_train,Y_test:\n",
    "X_train=train.iloc[:,:-1]\n",
    "Y_train=train.iloc[:,-1]\n",
    "X_test=test.iloc[:,:-1]\n",
    "Y_test=test.iloc[:,-1]\n",
    "\n",
    "print(X_train.shape, Y_train.shape, X_test.shape, Y_test.shape)"
   ]
  },
  {
   "cell_type": "code",
   "execution_count": 12,
   "metadata": {},
   "outputs": [],
   "source": [
    "X=df.iloc[:,0:-1]\n",
    "Y=df['total']"
   ]
  },
  {
   "cell_type": "markdown",
   "metadata": {},
   "source": [
    "## Linear Regression"
   ]
  },
  {
   "cell_type": "code",
   "execution_count": 13,
   "metadata": {},
   "outputs": [],
   "source": [
    "X_train=train.iloc[:,:-1]\n",
    "Y_train=train.iloc[:,-1]\n",
    "X_test=test.iloc[:,:-1]\n",
    "Y_test=test.iloc[:,-1]"
   ]
  },
  {
   "cell_type": "code",
   "execution_count": 14,
   "metadata": {},
   "outputs": [
    {
     "name": "stdout",
     "output_type": "stream",
     "text": [
      "0.7475672874410679\n",
      "15.99268590091792\n",
      "0.747510628894182\n"
     ]
    }
   ],
   "source": [
    "model_linear = LinearRegression()\n",
    "model_linear.fit(X_train,Y_train)\n",
    "LM=model_linear.predict(X_test)\n",
    "\n",
    "print(r2_score(Y_test,LM))\n",
    "print(np.sqrt(mean_squared_error(Y_test,LM)))\n",
    "print(1 - (1-(r2_score(Y_test,LM)))*(len(Y)-1)/(len(Y)-X.shape[1]-1))"
   ]
  },
  {
   "cell_type": "markdown",
   "metadata": {},
   "source": [
    "## Ridge"
   ]
  },
  {
   "cell_type": "code",
   "execution_count": 15,
   "metadata": {},
   "outputs": [],
   "source": [
    "X_train=train.iloc[:,:-1]\n",
    "Y_train=train.iloc[:,-1]\n",
    "X_test=test.iloc[:,:-1]\n",
    "Y_test=test.iloc[:,-1]"
   ]
  },
  {
   "cell_type": "code",
   "execution_count": 16,
   "metadata": {},
   "outputs": [
    {
     "name": "stdout",
     "output_type": "stream",
     "text": [
      "0.7475668653312295\n",
      "15.992699272139049\n",
      "0.7475102066896011\n"
     ]
    }
   ],
   "source": [
    "model_ridge = Ridge()\n",
    "model_ridge.fit(X_train,Y_train)\n",
    "RM=model_ridge.predict(X_test)\n",
    "\n",
    "print(r2_score(Y_test,RM))\n",
    "print(np.sqrt(mean_squared_error(Y_test,RM)))\n",
    "print(1 - (1-(r2_score(Y_test,RM)))*(len(Y)-1)/(len(Y)-X.shape[1]-1))"
   ]
  },
  {
   "cell_type": "markdown",
   "metadata": {},
   "source": [
    "## Lasso"
   ]
  },
  {
   "cell_type": "code",
   "execution_count": 17,
   "metadata": {},
   "outputs": [],
   "source": [
    "X_train=train.iloc[:,:-1]\n",
    "Y_train=train.iloc[:,-1]\n",
    "X_test=test.iloc[:,:-1]\n",
    "Y_test=test.iloc[:,-1]"
   ]
  },
  {
   "cell_type": "code",
   "execution_count": 18,
   "metadata": {},
   "outputs": [
    {
     "name": "stdout",
     "output_type": "stream",
     "text": [
      "0.7409973596566748\n",
      "16.199465541020277\n",
      "0.7409392264888587\n"
     ]
    }
   ],
   "source": [
    "model_lasso = Lasso()\n",
    "model_lasso.fit(X_train,Y_train)\n",
    "LS=model_lasso.predict(X_test)\n",
    "\n",
    "print(r2_score(Y_test,LS))\n",
    "print(np.sqrt(mean_squared_error(Y_test,LS)))\n",
    "print(1 - (1-(r2_score(Y_test,LS)))*(len(Y)-1)/(len(Y)-X.shape[1]-1))"
   ]
  },
  {
   "cell_type": "markdown",
   "metadata": {},
   "source": [
    "## OLS"
   ]
  },
  {
   "cell_type": "code",
   "execution_count": 19,
   "metadata": {},
   "outputs": [],
   "source": [
    "X_train=train.iloc[:,:-1]\n",
    "Y_train=train.iloc[:,-1]\n",
    "X_test=test.iloc[:,:-1]\n",
    "Y_test=test.iloc[:,-1]"
   ]
  },
  {
   "cell_type": "code",
   "execution_count": 20,
   "metadata": {},
   "outputs": [
    {
     "data": {
      "text/plain": [
       "(37330, 9)"
      ]
     },
     "execution_count": 20,
     "metadata": {},
     "output_type": "execute_result"
    }
   ],
   "source": [
    "new_df=pd.DataFrame()\n",
    "new_df=X_train\n",
    "\n",
    "new_df[\"total\"]=Y_train\n",
    "new_df.shape"
   ]
  },
  {
   "cell_type": "code",
   "execution_count": 21,
   "metadata": {},
   "outputs": [
    {
     "name": "stdout",
     "output_type": "stream",
     "text": [
      "Intercept         163.766616\n",
      "venue               0.053128\n",
      "bat_team            0.206536\n",
      "bowl_team          -0.090491\n",
      "runs                0.956933\n",
      "wickets            -4.864976\n",
      "overs              -6.341191\n",
      "runs_last_5         0.013434\n",
      "wickets_last_5     -1.221225\n",
      "dtype: float64\n",
      "                            OLS Regression Results                            \n",
      "==============================================================================\n",
      "Dep. Variable:                  total   R-squared:                       0.641\n",
      "Model:                            OLS   Adj. R-squared:                  0.640\n",
      "Method:                 Least Squares   F-statistic:                     8312.\n",
      "Date:                Mon, 20 Sep 2021   Prob (F-statistic):               0.00\n",
      "Time:                        15:50:30   Log-Likelihood:            -1.6039e+05\n",
      "No. Observations:               37330   AIC:                         3.208e+05\n",
      "Df Residuals:                   37321   BIC:                         3.209e+05\n",
      "Df Model:                           8                                         \n",
      "Covariance Type:            nonrobust                                         \n",
      "==================================================================================\n",
      "                     coef    std err          t      P>|t|      [0.025      0.975]\n",
      "----------------------------------------------------------------------------------\n",
      "Intercept        163.7666      0.596    274.691      0.000     162.598     164.935\n",
      "venue              0.0531      0.011      4.699      0.000       0.031       0.075\n",
      "bat_team           0.2065      0.043      4.842      0.000       0.123       0.290\n",
      "bowl_team         -0.0905      0.044     -2.066      0.039      -0.176      -0.005\n",
      "runs               0.9569      0.008    119.899      0.000       0.941       0.973\n",
      "wickets           -4.8650      0.101    -48.036      0.000      -5.063      -4.666\n",
      "overs             -6.3412      0.078    -81.790      0.000      -6.493      -6.189\n",
      "runs_last_5        0.0134      0.013      1.022      0.307      -0.012       0.039\n",
      "wickets_last_5    -1.2212      0.128     -9.543      0.000      -1.472      -0.970\n",
      "==============================================================================\n",
      "Omnibus:                     1842.359   Durbin-Watson:                   0.048\n",
      "Prob(Omnibus):                  0.000   Jarque-Bera (JB):             6746.360\n",
      "Skew:                          -0.082   Prob(JB):                         0.00\n",
      "Kurtosis:                       5.076   Cond. No.                         731.\n",
      "==============================================================================\n",
      "\n",
      "Notes:\n",
      "[1] Standard Errors assume that the covariance matrix of the errors is correctly specified.\n"
     ]
    }
   ],
   "source": [
    "ols_models = sm.ols(formula='total ~ venue + bat_team + bowl_team + runs + wickets + overs + runs_last_5 + wickets_last_5', \n",
    "                    data=new_df).fit()\n",
    "print(ols_models.params)\n",
    "print(ols_models.summary())"
   ]
  },
  {
   "cell_type": "code",
   "execution_count": 22,
   "metadata": {},
   "outputs": [
    {
     "name": "stdout",
     "output_type": "stream",
     "text": [
      "0.7475672874410682\n",
      "15.992685900917914\n",
      "0.7475106288941823\n"
     ]
    }
   ],
   "source": [
    "OLS=ols_models.predict(X_test)\n",
    "\n",
    "print(r2_score(Y_test,OLS))\n",
    "print(np.sqrt(mean_squared_error(Y_test,OLS)))\n",
    "print(1 - (1-(r2_score(Y_test,OLS)))*(len(Y)-1)/(len(Y)-X.shape[1]-1))"
   ]
  },
  {
   "cell_type": "code",
   "execution_count": 23,
   "metadata": {},
   "outputs": [
    {
     "data": {
      "image/png": "[encoded data removed]",
      "text/plain": [
       "<Figure size 432x288 with 1 Axes>"
      ]
     },
     "metadata": {
      "needs_background": "light"
     },
     "output_type": "display_data"
    }
   ],
   "source": [
    "## Quantile-Quantile plots\n",
    "res = ols_models.resid\n",
    "import statsmodels.api as stm\n",
    "import scipy.stats as stats\n",
    "fig = stm.qqplot(res,  fit=True, line='45')\n",
    "plt.title('Normal Q-Q')\n",
    "plt.xlabel('Theoretical Quantiles')\n",
    "plt.ylabel('Standardized Residuals')\n",
    "plt.show() "
   ]
  },
  {
   "cell_type": "markdown",
   "metadata": {},
   "source": [
    "## SGD"
   ]
  },
  {
   "cell_type": "code",
   "execution_count": 24,
   "metadata": {},
   "outputs": [],
   "source": [
    "X_train=train.iloc[:,:-1]\n",
    "Y_train=train.iloc[:,-1]\n",
    "X_test=test.iloc[:,:-1]\n",
    "Y_test=test.iloc[:,-1]"
   ]
  },
  {
   "cell_type": "code",
   "execution_count": 25,
   "metadata": {},
   "outputs": [
    {
     "name": "stdout",
     "output_type": "stream",
     "text": [
      "-2.824466089919468e+25\n",
      "169167438429867.47\n",
      "0.7409392264888587\n"
     ]
    }
   ],
   "source": [
    "regressor_SGD=SGDRegressor(learning_rate=\"constant\",eta0=0.01,shuffle=True,random_state=10,max_iter=1000,early_stopping=True,n_iter_no_change=5)\n",
    "regressor_SGD.fit(X_train,Y_train)\n",
    "SGD=regressor_SGD.predict(X_test)\n",
    "\n",
    "print(r2_score(Y_test,SGD))\n",
    "print(np.sqrt(mean_squared_error(Y_test,SGD)))\n",
    "print(1 - (1-(r2_score(Y_test,LS)))*(len(Y)-1)/(len(Y)-X.shape[1]-1))"
   ]
  },
  {
   "cell_type": "code",
   "execution_count": 26,
   "metadata": {},
   "outputs": [
    {
     "name": "stdout",
     "output_type": "stream",
     "text": [
      "0.7456459635175157\n",
      "16.053432551653685\n",
      "0.7409392264888587\n"
     ]
    }
   ],
   "source": [
    "regressor_SGD=SGDRegressor(learning_rate=\"constant\",eta0=0.00001,shuffle=True,random_state=10,max_iter=100000,early_stopping=True,n_iter_no_change=400)\n",
    "regressor_SGD.fit(X_train,Y_train)\n",
    "SGD=regressor_SGD.predict(X_test)\n",
    "\n",
    "print(r2_score(Y_test,SGD))\n",
    "print(np.sqrt(mean_squared_error(Y_test,SGD)))\n",
    "print(1 - (1-(r2_score(Y_test,LS)))*(len(Y)-1)/(len(Y)-X.shape[1]-1))"
   ]
  },
  {
   "cell_type": "markdown",
   "metadata": {},
   "source": [
    "## KNN"
   ]
  },
  {
   "cell_type": "code",
   "execution_count": 27,
   "metadata": {},
   "outputs": [],
   "source": [
    "X_train=train.iloc[:,:-1]\n",
    "Y_train=train.iloc[:,-1]\n",
    "X_test=test.iloc[:,:-1]\n",
    "Y_test=test.iloc[:,-1]"
   ]
  },
  {
   "cell_type": "code",
   "execution_count": 28,
   "metadata": {},
   "outputs": [
    {
     "name": "stdout",
     "output_type": "stream",
     "text": [
      "0.507425089280132\n",
      "22.340080530515287\n",
      "0.7409392264888587\n"
     ]
    }
   ],
   "source": [
    "model_KNN=KNeighborsRegressor(n_neighbors=int(np.sqrt(len(X_train))),metric='euclidean')\n",
    "model_KNN.fit(X_train,Y_train)\n",
    "KNN=model_KNN.predict(X_test)\n",
    "\n",
    "print(r2_score(Y_test,KNN))\n",
    "print(np.sqrt(mean_squared_error(Y_test,KNN)))\n",
    "print(1 - (1-(r2_score(Y_test,LS)))*(len(Y)-1)/(len(Y)-X.shape[1]-1))"
   ]
  },
  {
   "cell_type": "code",
   "execution_count": 29,
   "metadata": {},
   "outputs": [
    {
     "data": {
      "text/plain": [
       "193"
      ]
     },
     "execution_count": 29,
     "metadata": {},
     "output_type": "execute_result"
    }
   ],
   "source": [
    "int(np.sqrt(len(X_train)))"
   ]
  },
  {
   "cell_type": "code",
   "execution_count": 30,
   "metadata": {},
   "outputs": [
    {
     "name": "stdout",
     "output_type": "stream",
     "text": [
      "0.540671415254615\n",
      "21.572989257188272\n",
      "0.7409392264888587\n"
     ]
    }
   ],
   "source": [
    "model_KNN_tune=KNeighborsRegressor(n_neighbors=60,metric='euclidean')\n",
    "model_KNN_tune.fit(X_train,Y_train)\n",
    "KNN=model_KNN_tune.predict(X_test)\n",
    "\n",
    "print(r2_score(Y_test,KNN))\n",
    "print(np.sqrt(mean_squared_error(Y_test,KNN)))\n",
    "print(1 - (1-(r2_score(Y_test,LS)))*(len(Y)-1)/(len(Y)-X.shape[1]-1))"
   ]
  },
  {
   "cell_type": "markdown",
   "metadata": {},
   "source": [
    "## Decision Tree"
   ]
  },
  {
   "cell_type": "code",
   "execution_count": 31,
   "metadata": {},
   "outputs": [],
   "source": [
    "X_train=train.iloc[:,:-1]\n",
    "Y_train=train.iloc[:,-1]\n",
    "X_test=test.iloc[:,:-1]\n",
    "Y_test=test.iloc[:,-1]"
   ]
  },
  {
   "cell_type": "code",
   "execution_count": 32,
   "metadata": {},
   "outputs": [
    {
     "name": "stdout",
     "output_type": "stream",
     "text": [
      "0.540671415254615\n",
      "21.572989257188272\n",
      "0.7409392264888587\n"
     ]
    }
   ],
   "source": [
    "model_DT=DecisionTreeRegressor(criterion='mse', random_state=10, splitter='best')\n",
    "model_DT.fit(X_train,Y_train)\n",
    "DT=model_DT.predict(X_test)\n",
    "\n",
    "print(r2_score(Y_test,KNN))\n",
    "print(np.sqrt(mean_squared_error(Y_test,KNN)))\n",
    "print(1 - (1-(r2_score(Y_test,LS)))*(len(Y)-1)/(len(Y)-X.shape[1]-1))"
   ]
  },
  {
   "cell_type": "markdown",
   "metadata": {},
   "source": [
    "## Extra Tree"
   ]
  },
  {
   "cell_type": "code",
   "execution_count": 45,
   "metadata": {},
   "outputs": [],
   "source": [
    "X_train=train.iloc[:,:-1]\n",
    "Y_train=train.iloc[:,-1]\n",
    "X_test=test.iloc[:,:-1]\n",
    "Y_test=test.iloc[:,-1]"
   ]
  },
  {
   "cell_type": "code",
   "execution_count": 44,
   "metadata": {},
   "outputs": [
    {
     "name": "stdout",
     "output_type": "stream",
     "text": [
      "0.6735543444796854\n",
      "18.186705625550747\n",
      "0.7409392264888587\n"
     ]
    }
   ],
   "source": [
    "model_EXT= ExtraTreesRegressor(n_estimators=1000, random_state=10)\n",
    "model_EXT.fit(X_train,Y_train)\n",
    "EXT= model_EXT.predict(X_test)\n",
    "\n",
    "print(r2_score(Y_test,EXT))\n",
    "print(np.sqrt(mean_squared_error(Y_test,EXT)))\n",
    "print(1 - (1-(r2_score(Y_test,LS)))*(len(Y)-1)/(len(Y)-X.shape[1]-1))"
   ]
  },
  {
   "cell_type": "markdown",
   "metadata": {},
   "source": [
    "## Random Forest"
   ]
  },
  {
   "cell_type": "code",
   "execution_count": 46,
   "metadata": {},
   "outputs": [],
   "source": [
    "X_train=train.iloc[:,:-1]\n",
    "Y_train=train.iloc[:,-1]\n",
    "X_test=test.iloc[:,:-1]\n",
    "Y_test=test.iloc[:,-1]"
   ]
  },
  {
   "cell_type": "code",
   "execution_count": 51,
   "metadata": {},
   "outputs": [
    {
     "name": "stdout",
     "output_type": "stream",
     "text": [
      "0.615682229789124\n",
      "19.733032158574776\n",
      "0.7409392264888587\n"
     ]
    }
   ],
   "source": [
    "model_RF= RandomForestRegressor(n_estimators=100, random_state=10)\n",
    "model_RF.fit(X_train,Y_train)\n",
    "RF= model_RF.predict(X_test)\n",
    "\n",
    "print(r2_score(Y_test,RF))\n",
    "print(np.sqrt(mean_squared_error(Y_test,RF)))\n",
    "print(1 - (1-(r2_score(Y_test,LS)))*(len(Y)-1)/(len(Y)-X.shape[1]-1))"
   ]
  },
  {
   "cell_type": "markdown",
   "metadata": {},
   "source": [
    "## Adaboost"
   ]
  },
  {
   "cell_type": "code",
   "execution_count": 52,
   "metadata": {},
   "outputs": [],
   "source": [
    "X_train=train.iloc[:,:-1]\n",
    "Y_train=train.iloc[:,-1]\n",
    "X_test=test.iloc[:,:-1]\n",
    "Y_test=test.iloc[:,-1]"
   ]
  },
  {
   "cell_type": "code",
   "execution_count": 59,
   "metadata": {},
   "outputs": [
    {
     "name": "stdout",
     "output_type": "stream",
     "text": [
      "0.533995244754129\n",
      "21.72920137961276\n",
      "0.7409392264888587\n"
     ]
    }
   ],
   "source": [
    "model_AB= AdaBoostRegressor(n_estimators=100, random_state=10)\n",
    "model_AB.fit(X_train,Y_train)\n",
    "AB= model_AB.predict(X_test)\n",
    "\n",
    "print(r2_score(Y_test,AB))\n",
    "print(np.sqrt(mean_squared_error(Y_test,AB)))\n",
    "print(1 - (1-(r2_score(Y_test,LS)))*(len(Y)-1)/(len(Y)-X.shape[1]-1))"
   ]
  },
  {
   "cell_type": "code",
   "execution_count": 61,
   "metadata": {},
   "outputs": [
    {
     "name": "stdout",
     "output_type": "stream",
     "text": [
      "0.7426670355717748\n",
      "16.147165707519413\n",
      "0.7409392264888587\n"
     ]
    }
   ],
   "source": [
    "model_AB= AdaBoostRegressor(model_ridge, random_state=10)\n",
    "model_AB.fit(X_train,Y_train)\n",
    "AB= model_AB.predict(X_test)\n",
    "\n",
    "print(r2_score(Y_test,AB))\n",
    "print(np.sqrt(mean_squared_error(Y_test,AB)))\n",
    "print(1 - (1-(r2_score(Y_test,LS)))*(len(Y)-1)/(len(Y)-X.shape[1]-1))"
   ]
  },
  {
   "cell_type": "markdown",
   "metadata": {},
   "source": [
    "## Gradient Boost"
   ]
  },
  {
   "cell_type": "code",
   "execution_count": 70,
   "metadata": {},
   "outputs": [
    {
     "name": "stdout",
     "output_type": "stream",
     "text": [
      "0.7234275291253633\n",
      "16.739907947700633\n",
      "0.7409392264888587\n"
     ]
    }
   ],
   "source": [
    "model_GB= GradientBoostingRegressor(n_estimators=600, random_state=10)\n",
    "model_GB.fit(X_train,Y_train)\n",
    "GB= model_GB.predict(X_test)\n",
    "\n",
    "print(r2_score(Y_test,GB))\n",
    "print(np.sqrt(mean_squared_error(Y_test,GB)))\n",
    "print(1 - (1-(r2_score(Y_test,LS)))*(len(Y)-1)/(len(Y)-X.shape[1]-1))"
   ]
  },
  {
   "cell_type": "code",
   "execution_count": 97,
   "metadata": {},
   "outputs": [
    {
     "name": "stdout",
     "output_type": "stream",
     "text": [
      "0.6616227368480203\n",
      "18.5160854945344\n",
      "0.7409392264888587\n"
     ]
    }
   ],
   "source": [
    "model_XGB= XGBRegressor(n_estimators=20,random_state=10)\n",
    "model_XGB.fit(X_train,Y_train)\n",
    "XGB=model_XGB.predict(X_test)\n",
    "\n",
    "print(r2_score(Y_test,XGB))\n",
    "print(np.sqrt(mean_squared_error(Y_test,XGB)))\n",
    "print(1 - (1-(r2_score(Y_test,LS)))*(len(Y)-1)/(len(Y)-X.shape[1]-1))"
   ]
  },
  {
   "cell_type": "markdown",
   "metadata": {},
   "source": [
    "## Ensemble"
   ]
  },
  {
   "cell_type": "code",
   "execution_count": 105,
   "metadata": {},
   "outputs": [
    {
     "name": "stdout",
     "output_type": "stream",
     "text": [
      "\n",
      "0.755727623843733\n",
      "15.732066342428244\n",
      "0.7409392264888587\n"
     ]
    }
   ],
   "source": [
    "estimators = []\n",
    "\n",
    "model1 = LinearRegression()\n",
    "estimators.append(('Lr', model1))\n",
    "                  \n",
    "model2 = Ridge()\n",
    "estimators.append(('Rg', model2))\n",
    "\n",
    "model3 = Lasso()\n",
    "estimators.append(('Ls', model3))\n",
    "\n",
    "# model4 = sm.ols(formula='total ~ venue + bat_team + bowl_team + runs + wickets + overs + runs_last_5 + wickets_last_5', data=new_df).fit()\n",
    "# estimators.append(('Ols', model4))\n",
    "\n",
    "model5 = SGDRegressor(learning_rate=\"constant\",eta0=0.00001,shuffle=True,random_state=10,max_iter=100000,early_stopping=True,n_iter_no_change=400)\n",
    "estimators.append(('Sgd', model5))\n",
    "\n",
    "model6 = GradientBoostingRegressor(n_estimators=600, random_state=10)\n",
    "estimators.append(('Gb', model6))                  \n",
    "\n",
    "# create the ensemble model\n",
    "model_ensemble = VotingRegressor(estimators)\n",
    "model_ensemble.fit(X_train,Y_train)\n",
    "EM=model_ensemble.predict(X_test)\n",
    "\n",
    "print()\n",
    "print(r2_score(Y_test,EM))\n",
    "print(np.sqrt(mean_squared_error(Y_test,EM)))\n",
    "print(1 - (1-(r2_score(Y_test,LS)))*(len(Y)-1)/(len(Y)-X.shape[1]-1))"
   ]
  },
  {
   "cell_type": "code",
   "execution_count": null,
   "metadata": {},
   "outputs": [],
   "source": []
  }
 ],
 "metadata": {
  "kernelspec": {
   "display_name": "Python 3",
   "language": "python",
   "name": "python3"
  },
  "language_info": {
   "codemirror_mode": {
    "name": "ipython",
    "version": 3
   },
   "file_extension": ".py",
   "mimetype": "text/x-python",
   "name": "python",
   "nbconvert_exporter": "python",
   "pygments_lexer": "ipython3",
   "version": "3.8.8"
  }
 },
 "nbformat": 4,
 "nbformat_minor": 4
}
